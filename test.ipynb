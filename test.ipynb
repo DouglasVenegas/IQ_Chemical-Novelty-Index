{
 "cells": [
  {
   "cell_type": "code",
   "execution_count": 1,
   "id": "9b10afc1",
   "metadata": {},
   "outputs": [],
   "source": [
    "import os\n",
    "import requests\n",
    "import pandas as pd\n",
    "import networkx as nx\n",
    "from scipy.stats import entropy"
   ]
  },
  {
   "cell_type": "code",
   "execution_count": 2,
   "id": "8e97b98e",
   "metadata": {},
   "outputs": [],
   "source": [
    "def load_graph(path: str) -> nx.Graph:\n",
    "    \"\"\"\n",
    "    Load a GraphML network.\n",
    "    \"\"\"\n",
    "    if not os.path.exists(path):\n",
    "        raise FileNotFoundError(f\"Graph file not found: {path}\")\n",
    "    \n",
    "    G = nx.read_graphml(path)\n",
    "        # Extract nodes with attributes\n",
    "    df_nodes = pd.DataFrame([{\"id\": n[0], **n[1]} for n in G.nodes(data=True)])\n",
    "    \n",
    "    # Extract edges with attributes\n",
    "    df_edges = pd.DataFrame([{\"source\": u, \"target\": v, **d} \n",
    "                           for u, v, d in G.edges(data=True)])\n",
    "    \n",
    "     # Change column names\n",
    "    df_nodes = df_nodes.rename(columns={'ATTRIBUTE_Bacteria': 'ATTRIBUTE_Genus', 'ATTRIBUTE_Strain': 'ATTRIBUTE_Species'})\n",
    "\n",
    "    return G, df_nodes, df_edges\n",
    "\n",
    "def load_metadata(path: str) -> pd.DataFrame:\n",
    "    \"\"\"\n",
    "    Load species metadata CSV.\n",
    "    \"\"\"\n",
    "    if not os.path.exists(path):\n",
    "        raise FileNotFoundError(f\"Metadata file not found: {path}\")\n",
    "    df = pd.read_csv(path, sep=\";\", encoding='utf-8')\n",
    "\n",
    "    # Change column names\n",
    "    df = df.rename(columns={'ATTRIBUTE_Bacteria': 'ATTRIBUTE_Genus', 'ATTRIBUTE_Strain': 'ATTRIBUTE_Species'})\n",
    "    return df\n"
   ]
  },
  {
   "cell_type": "code",
   "execution_count": 3,
   "id": "adee079f",
   "metadata": {},
   "outputs": [],
   "source": [
    "### Weighing\n",
    "Weigh_Ans = 0.33\n",
    "Weigh_Hcos = 0.33\n",
    "Weigh_Hmqs = 0.33"
   ]
  },
  {
   "cell_type": "code",
   "execution_count": 4,
   "id": "a5d64acc",
   "metadata": {},
   "outputs": [],
   "source": [
    "### Get node and edge data from the graph\n",
    "G, df_nodes, df_edges = load_graph(\"Actino_network.graphml\")\n",
    "metadata = load_metadata(\"Metadata_Actinomyces.csv\")"
   ]
  },
  {
   "cell_type": "code",
   "execution_count": 6,
   "id": "607e08ef",
   "metadata": {},
   "outputs": [],
   "source": [
    "### Calculate total nodes per sample\n",
    "df_nodes['total_nodes'] = df_nodes.groupby('ATTRIBUTE_Species')['id'].transform('count')\n",
    "# Count total nodes per Species\n",
    "species_counts = df_nodes['ATTRIBUTE_Species'].value_counts().reset_index()"
   ]
  },
  {
   "cell_type": "code",
   "execution_count": 7,
   "id": "5ec88aa6",
   "metadata": {},
   "outputs": [
    {
     "data": {
      "text/html": [
       "<div>\n",
       "<style scoped>\n",
       "    .dataframe tbody tr th:only-of-type {\n",
       "        vertical-align: middle;\n",
       "    }\n",
       "\n",
       "    .dataframe tbody tr th {\n",
       "        vertical-align: top;\n",
       "    }\n",
       "\n",
       "    .dataframe thead th {\n",
       "        text-align: right;\n",
       "    }\n",
       "</style>\n",
       "<table border=\"1\" class=\"dataframe\">\n",
       "  <thead>\n",
       "    <tr style=\"text-align: right;\">\n",
       "      <th></th>\n",
       "      <th>ATTRIBUTE_Species</th>\n",
       "      <th>count</th>\n",
       "    </tr>\n",
       "  </thead>\n",
       "  <tbody>\n",
       "    <tr>\n",
       "      <th>0</th>\n",
       "      <td>Control,1,2,171</td>\n",
       "      <td>679</td>\n",
       "    </tr>\n",
       "    <tr>\n",
       "      <th>1</th>\n",
       "      <td>1,2</td>\n",
       "      <td>349</td>\n",
       "    </tr>\n",
       "    <tr>\n",
       "      <th>2</th>\n",
       "      <td>171</td>\n",
       "      <td>282</td>\n",
       "    </tr>\n",
       "    <tr>\n",
       "      <th>3</th>\n",
       "      <td>2</td>\n",
       "      <td>228</td>\n",
       "    </tr>\n",
       "    <tr>\n",
       "      <th>4</th>\n",
       "      <td>Control</td>\n",
       "      <td>147</td>\n",
       "    </tr>\n",
       "    <tr>\n",
       "      <th>5</th>\n",
       "      <td>1</td>\n",
       "      <td>71</td>\n",
       "    </tr>\n",
       "    <tr>\n",
       "      <th>6</th>\n",
       "      <td>Control,171</td>\n",
       "      <td>43</td>\n",
       "    </tr>\n",
       "    <tr>\n",
       "      <th>7</th>\n",
       "      <td>Control,1,2</td>\n",
       "      <td>41</td>\n",
       "    </tr>\n",
       "    <tr>\n",
       "      <th>8</th>\n",
       "      <td>Control,1</td>\n",
       "      <td>28</td>\n",
       "    </tr>\n",
       "    <tr>\n",
       "      <th>9</th>\n",
       "      <td>1,2,171</td>\n",
       "      <td>21</td>\n",
       "    </tr>\n",
       "    <tr>\n",
       "      <th>10</th>\n",
       "      <td>Control,1,171</td>\n",
       "      <td>14</td>\n",
       "    </tr>\n",
       "    <tr>\n",
       "      <th>11</th>\n",
       "      <td>2,171</td>\n",
       "      <td>10</td>\n",
       "    </tr>\n",
       "    <tr>\n",
       "      <th>12</th>\n",
       "      <td>1,171</td>\n",
       "      <td>4</td>\n",
       "    </tr>\n",
       "    <tr>\n",
       "      <th>13</th>\n",
       "      <td>Control,2</td>\n",
       "      <td>4</td>\n",
       "    </tr>\n",
       "    <tr>\n",
       "      <th>14</th>\n",
       "      <td>Control,2,171</td>\n",
       "      <td>1</td>\n",
       "    </tr>\n",
       "  </tbody>\n",
       "</table>\n",
       "</div>"
      ],
      "text/plain": [
       "   ATTRIBUTE_Species  count\n",
       "0    Control,1,2,171    679\n",
       "1                1,2    349\n",
       "2                171    282\n",
       "3                  2    228\n",
       "4            Control    147\n",
       "5                  1     71\n",
       "6        Control,171     43\n",
       "7        Control,1,2     41\n",
       "8          Control,1     28\n",
       "9            1,2,171     21\n",
       "10     Control,1,171     14\n",
       "11             2,171     10\n",
       "12             1,171      4\n",
       "13         Control,2      4\n",
       "14     Control,2,171      1"
      ]
     },
     "execution_count": 7,
     "metadata": {},
     "output_type": "execute_result"
    }
   ],
   "source": [
    "species_counts"
   ]
  },
  {
   "cell_type": "code",
   "execution_count": 8,
   "id": "b3c27ce4",
   "metadata": {},
   "outputs": [
    {
     "data": {
      "text/plain": [
       "Index(['id', 'charge', 'number of spectra', 'DefaultGroups', 'G4',\n",
       "       'MS2 Verification Comment', 'GNPSGROUP:Upala', 'AllGroups',\n",
       "       'GNPSGROUP:1', 'G2', 'G1', 'neutral M mass', 'RTMean', 'componentindex',\n",
       "       'cluster index', 'GNPSGROUP:Control', 'G6', 'UniqueFileSources',\n",
       "       'parent mass', 'G3', 'Best Ion', 'ATTRIBUTE_Species', 'GNPSGROUP:2',\n",
       "       'NODE_TYPE', 'GNPSLinkout_Cluster', 'Correlated Features Group ID',\n",
       "       'sum(precursor intensity)', 'GNPSLinkout_Network', 'RTConsensus',\n",
       "       'GNPSGROUP:Rhodococcus', 'GNPSGROUP:171', 'G5', 'ATTRIBUTE_Genus',\n",
       "       'Annotated Adduct Features ID', 'precursor mass', 'Analog:Smiles',\n",
       "       'Analog:GNPSLibraryURL', 'MassDiff', 'Analog:tags',\n",
       "       'Analog:Library_Class', 'IonMode', 'Analog:MassDiff', 'MZErrorPPM',\n",
       "       'IIN Best Ion=Library Adduct', 'Analog:Compound_Source',\n",
       "       'Library_Class', 'INCHI', 'Analog:SharedPeaks',\n",
       "       'Analog:IIN Best Ion=Library Adduct', 'Compound_Name', 'Ion_Source',\n",
       "       'Analog:MZErrorPPM', 'SharedPeaks', 'Compound_Source', 'tags',\n",
       "       'Analog:Data_Collector', 'GNPSLibraryURL', 'Analog:INCHI',\n",
       "       'Analog:Instrument', 'Analog:IonMode', 'Smiles', 'Analog:Adduct', 'PI',\n",
       "       'MQScore', 'Analog:Ion_Source', 'Instrument', 'Analog:Compound_Name',\n",
       "       'Analog:SpectrumID', 'Data_Collector', 'Analog:PI', 'SpectrumID',\n",
       "       'Adduct', 'Analog:MQScore', 'total_nodes'],\n",
       "      dtype='object')"
      ]
     },
     "execution_count": 8,
     "metadata": {},
     "output_type": "execute_result"
    }
   ],
   "source": [
    "df_nodes.columns"
   ]
  },
  {
   "cell_type": "code",
   "execution_count": 9,
   "id": "2e017851",
   "metadata": {},
   "outputs": [
    {
     "data": {
      "text/plain": [
       "Index(['source', 'target', 'property1', 'component', 'node1', 'node2',\n",
       "       'explained_intensity', 'EdgeScore', 'cosine_score', 'EdgeAnnotation',\n",
       "       'mass_difference', 'EdgeType', 'id'],\n",
       "      dtype='object')"
      ]
     },
     "execution_count": 9,
     "metadata": {},
     "output_type": "execute_result"
    }
   ],
   "source": [
    "df_edges.columns\n"
   ]
  },
  {
   "cell_type": "code",
   "execution_count": 11,
   "id": "3964e680",
   "metadata": {},
   "outputs": [
    {
     "data": {
      "text/plain": [
       "Index(['filename', 'ATTRIBUTE_Genus', 'ATTRIBUTE_Species'], dtype='object')"
      ]
     },
     "execution_count": 11,
     "metadata": {},
     "output_type": "execute_result"
    }
   ],
   "source": [
    "metadata.columns"
   ]
  },
  {
   "cell_type": "markdown",
   "id": "ffbd9656",
   "metadata": {},
   "source": [
    "metadata.columns --> 'filename', 'ATTRIBUTE_Genus', 'ATTRIBUTE_Species'\n",
    "df_edges.columns --> 'source', 'target', 'property1', 'component', 'node1', 'node2',\n",
    "       'explained_intensity', 'EdgeScore', 'cosine_score', 'EdgeAnnotation',\n",
    "       'mass_difference', 'EdgeType', 'id'\n",
    "df_nodes.columns --> 'id', 'charge', 'number of spectra', 'DefaultGroups', 'G4',\n",
    "       'MS2 Verification Comment', 'GNPSGROUP:Upala', 'AllGroups',\n",
    "       'GNPSGROUP:1', 'G2', 'G1', 'neutral M mass', 'RTMean', 'componentindex',\n",
    "       'cluster index', 'GNPSGROUP:Control', 'G6', 'UniqueFileSources',\n",
    "       'parent mass', 'G3', 'Best Ion', 'ATTRIBUTE_Species', 'GNPSGROUP:2',\n",
    "       'NODE_TYPE', 'GNPSLinkout_Cluster', 'Correlated Features Group ID',\n",
    "       'sum(precursor intensity)', 'GNPSLinkout_Network', 'RTConsensus',\n",
    "       'GNPSGROUP:Rhodococcus', 'GNPSGROUP:171', 'G5', 'ATTRIBUTE_Genus',\n",
    "       'Annotated Adduct Features ID', 'precursor mass', 'Analog:Smiles',\n",
    "       'Analog:GNPSLibraryURL', 'MassDiff', 'Analog:tags',\n",
    "       'Analog:Library_Class', 'IonMode', 'Analog:MassDiff', 'MZErrorPPM',\n",
    "       'IIN Best Ion=Library Adduct', 'Analog:Compound_Source',\n",
    "       'Library_Class', 'INCHI', 'Analog:SharedPeaks',\n",
    "       'Analog:IIN Best Ion=Library Adduct', 'Compound_Name', 'Ion_Source',\n",
    "       'Analog:MZErrorPPM', 'SharedPeaks', 'Compound_Source', 'tags',\n",
    "       'Analog:Data_Collector', 'GNPSLibraryURL', 'Analog:INCHI',\n",
    "       'Analog:Instrument', 'Analog:IonMode', 'Smiles', 'Analog:Adduct', 'PI',\n",
    "       'MQScore', 'Analog:Ion_Source', 'Instrument', 'Analog:Compound_Name',\n",
    "       'Analog:SpectrumID', 'Data_Collector', 'Analog:PI', 'SpectrumID',\n",
    "       'Adduct', 'Analog:MQScore', 'total_nodes'"
   ]
  },
  {
   "cell_type": "code",
   "execution_count": null,
   "id": "681c1ef0",
   "metadata": {},
   "outputs": [],
   "source": []
  }
 ],
 "metadata": {
  "kernelspec": {
   "display_name": "Python 3",
   "language": "python",
   "name": "python3"
  },
  "language_info": {
   "codemirror_mode": {
    "name": "ipython",
    "version": 3
   },
   "file_extension": ".py",
   "mimetype": "text/x-python",
   "name": "python",
   "nbconvert_exporter": "python",
   "pygments_lexer": "ipython3",
   "version": "3.12.3"
  }
 },
 "nbformat": 4,
 "nbformat_minor": 5
}
