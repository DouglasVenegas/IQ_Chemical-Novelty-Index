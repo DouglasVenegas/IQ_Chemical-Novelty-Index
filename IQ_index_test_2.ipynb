{
 "cells": [
  {
   "cell_type": "code",
   "execution_count": null,
   "id": "0e09d9fc-5165-4ee9-9197-78d48d19c187",
   "metadata": {
    "vscode": {
     "languageId": "r"
    }
   },
   "outputs": [],
   "source": [
    "# Load network from a GraphML file. Change the file name as necessary"
   ]
  },
  {
   "cell_type": "code",
   "execution_count": null,
   "id": "50dd96c0-7479-421d-9715-4ef593189ff2",
   "metadata": {
    "vscode": {
     "languageId": "r"
    }
   },
   "outputs": [],
   "source": [
    "graphml <- read_graph(\"Actino_network.graphml\", format = \"graphml\")\n",
    "Metadata <- read_delim(\"Metadata_Actinomyces.csv\", \n",
    "                       delim = \";\", escape_double = FALSE, trim_ws = TRUE)"
   ]
  }
 ],
 "metadata": {
  "kernelspec": {
   "display_name": "R",
   "language": "R",
   "name": "ir"
  },
  "language_info": {
   "codemirror_mode": "r",
   "file_extension": ".r",
   "mimetype": "text/x-r-source",
   "name": "R",
   "pygments_lexer": "r",
   "version": "4.4.2"
  }
 },
 "nbformat": 4,
 "nbformat_minor": 5
}
